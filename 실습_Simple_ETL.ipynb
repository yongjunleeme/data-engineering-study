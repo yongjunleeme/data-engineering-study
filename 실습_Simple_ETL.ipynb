{
  "nbformat": 4,
  "nbformat_minor": 0,
  "metadata": {
    "colab": {
      "name": "실습: Simple ETL",
      "provenance": [],
      "collapsed_sections": [],
      "include_colab_link": true
    },
    "kernelspec": {
      "name": "python3",
      "display_name": "Python 3"
    }
  },
  "cells": [
    {
      "cell_type": "markdown",
      "metadata": {
        "id": "view-in-github",
        "colab_type": "text"
      },
      "source": [
        "<a href=\"https://colab.research.google.com/github/yongjunleeme/data-engineering-study/blob/master/%EC%8B%A4%EC%8A%B5_Simple_ETL.ipynb\" target=\"_parent\"><img src=\"https://colab.research.google.com/assets/colab-badge.svg\" alt=\"Open In Colab\"/></a>"
      ]
    },
    {
      "cell_type": "code",
      "metadata": {
        "id": "z565vC4I9V0d",
        "colab_type": "code",
        "colab": {
          "base_uri": "https://localhost:8080/",
          "height": 70
        },
        "outputId": "ba9f59f1-d156-49b6-dd13-e5ef29ff58c9"
      },
      "source": [
        "import psycopg2\n",
        "\n",
        "# Redshift connection 함수\n",
        "def get_Redshift_connection():\n",
        "    host = \"grepp-data.cduaw970ssvt.ap-northeast-2.redshift.amazonaws.com\"\n",
        "    redshift_user = \"\"\n",
        "    redshift_pass = \"\"\n",
        "    port = 5439\n",
        "    dbname = \"dev\"\n",
        "    conn = psycopg2.connect(\"dbname={dbname} user={user} host={host} password={password} port={port}\".format(\n",
        "        dbname=dbname,\n",
        "        user=redshift_user,\n",
        "        password=redshift_pass,\n",
        "        host=host,\n",
        "        port=port\n",
        "    ))\n",
        "    conn.set_session(autocommit=True)\n",
        "    return conn.cursor()"
      ],
      "execution_count": null,
      "outputs": [
        {
          "output_type": "stream",
          "text": [
            "/usr/local/lib/python3.6/dist-packages/psycopg2/__init__.py:144: UserWarning: The psycopg2 wheel package will be renamed from release 2.8; in order to keep installing from binary please use \"pip install psycopg2-binary\" instead. For details see: <http://initd.org/psycopg/docs/install.html#binary-install-from-pypi>.\n",
            "  \"\"\")\n"
          ],
          "name": "stderr"
        }
      ]
    },
    {
      "cell_type": "markdown",
      "metadata": {
        "id": "XVtoIXUGWcWR",
        "colab_type": "text"
      },
      "source": [
        "# ETL 함수를 하나씩 정의"
      ]
    },
    {
      "cell_type": "code",
      "metadata": {
        "id": "gjDwY95epWDi",
        "colab_type": "code",
        "colab": {}
      },
      "source": [
        "import requests\n",
        "\n",
        "def extract(url):\n",
        "    f = requests.get(link)\n",
        "    return (f.text)"
      ],
      "execution_count": null,
      "outputs": []
    },
    {
      "cell_type": "code",
      "metadata": {
        "id": "0pz_AfKj8vXl",
        "colab_type": "code",
        "colab": {}
      },
      "source": [
        "def transform(text):\n",
        "    lines = text.split(\"\\n\")\n",
        "    return lines"
      ],
      "execution_count": null,
      "outputs": []
    },
    {
      "cell_type": "code",
      "metadata": {
        "id": "whLfutS48yCX",
        "colab_type": "code",
        "colab": {}
      },
      "source": [
        "def load(lines):\n",
        "    # BEGIN과 END를 사용해서 SQL 결과를 트랜잭션으로 만들어주는 것이 좋음\n",
        "    # BEGIN;TRUNCATE TABLE;INSERT INTO TABLE VALUES ('KEEYONG', 'MALE');END;\n",
        "    cur = get_Redshift_connection()\n",
        "    for r in lines:\n",
        "        if r != '':\n",
        "            (name, gender) = r.split(\",\")\n",
        "            print(name, \"-\", gender)\n",
        "            sql = \"INSERT INTO (본인의스키마).name_gender VALUES ('{name}', '{gender}')\".format(name=name, gender=gender)\n",
        "            print(sql)\n",
        "            cur.execute(sql)"
      ],
      "execution_count": null,
      "outputs": []
    },
    {
      "cell_type": "markdown",
      "metadata": {
        "id": "nOOqLjKsWj7g",
        "colab_type": "text"
      },
      "source": [
        "# 이제 Extract부터 함수를 하나씩 실행"
      ]
    },
    {
      "cell_type": "code",
      "metadata": {
        "id": "8cGBsu5Mv4J2",
        "colab_type": "code",
        "colab": {}
      },
      "source": [
        "link = \"https://s3-geospatial.s3-us-west-2.amazonaws.com/name_gender.csv\"\n",
        "\n",
        "data = extract(link)"
      ],
      "execution_count": null,
      "outputs": []
    },
    {
      "cell_type": "code",
      "metadata": {
        "id": "NYVbGIWJ84tm",
        "colab_type": "code",
        "colab": {}
      },
      "source": [
        "lines = transform(data)"
      ],
      "execution_count": null,
      "outputs": []
    },
    {
      "cell_type": "code",
      "metadata": {
        "id": "iWeBp9YA86-O",
        "colab_type": "code",
        "colab": {
          "base_uri": "https://localhost:8080/",
          "height": 1000
        },
        "outputId": "1066e3a6-bc4f-4c68-c5f6-67a38159763f"
      },
      "source": [
        "load(lines)"
      ],
      "execution_count": null,
      "outputs": [
        {
          "output_type": "stream",
          "text": [
            "name - gender\n",
            "INSERT INTO raw_data.name_gender VALUES ('name', 'gender')\n",
            "Adaleigh - F\n",
            "INSERT INTO raw_data.name_gender VALUES ('Adaleigh', 'F')\n",
            "Amryn - Unisex\n",
            "INSERT INTO raw_data.name_gender VALUES ('Amryn', 'Unisex')\n",
            "Apurva - Unisex\n",
            "INSERT INTO raw_data.name_gender VALUES ('Apurva', 'Unisex')\n",
            "Aryion - M\n",
            "INSERT INTO raw_data.name_gender VALUES ('Aryion', 'M')\n",
            "Alixia - F\n",
            "INSERT INTO raw_data.name_gender VALUES ('Alixia', 'F')\n",
            "Alyssarose - F\n",
            "INSERT INTO raw_data.name_gender VALUES ('Alyssarose', 'F')\n",
            "Arvell - M\n",
            "INSERT INTO raw_data.name_gender VALUES ('Arvell', 'M')\n",
            "Aibel - M\n",
            "INSERT INTO raw_data.name_gender VALUES ('Aibel', 'M')\n",
            "Atiyyah - F\n",
            "INSERT INTO raw_data.name_gender VALUES ('Atiyyah', 'F')\n",
            "Adlie - F\n",
            "INSERT INTO raw_data.name_gender VALUES ('Adlie', 'F')\n",
            "Anyely - F\n",
            "INSERT INTO raw_data.name_gender VALUES ('Anyely', 'F')\n",
            "Aamoni - F\n",
            "INSERT INTO raw_data.name_gender VALUES ('Aamoni', 'F')\n",
            "Ahman - M\n",
            "INSERT INTO raw_data.name_gender VALUES ('Ahman', 'M')\n",
            "Arlane - F\n",
            "INSERT INTO raw_data.name_gender VALUES ('Arlane', 'F')\n",
            "Armoney - F\n",
            "INSERT INTO raw_data.name_gender VALUES ('Armoney', 'F')\n",
            "Atzhiry - F\n",
            "INSERT INTO raw_data.name_gender VALUES ('Atzhiry', 'F')\n",
            "Antonette - F\n",
            "INSERT INTO raw_data.name_gender VALUES ('Antonette', 'F')\n",
            "Akeelah - F\n",
            "INSERT INTO raw_data.name_gender VALUES ('Akeelah', 'F')\n",
            "Abdikadir - M\n",
            "INSERT INTO raw_data.name_gender VALUES ('Abdikadir', 'M')\n",
            "Arinze - M\n",
            "INSERT INTO raw_data.name_gender VALUES ('Arinze', 'M')\n",
            "Arshaun - M\n",
            "INSERT INTO raw_data.name_gender VALUES ('Arshaun', 'M')\n",
            "Alexandro - M\n",
            "INSERT INTO raw_data.name_gender VALUES ('Alexandro', 'M')\n",
            "Ayriauna - F\n",
            "INSERT INTO raw_data.name_gender VALUES ('Ayriauna', 'F')\n",
            "Aqib - M\n",
            "INSERT INTO raw_data.name_gender VALUES ('Aqib', 'M')\n",
            "Alleya - F\n",
            "INSERT INTO raw_data.name_gender VALUES ('Alleya', 'F')\n",
            "Aavah - F\n",
            "INSERT INTO raw_data.name_gender VALUES ('Aavah', 'F')\n",
            "Anesti - Unisex\n",
            "INSERT INTO raw_data.name_gender VALUES ('Anesti', 'Unisex')\n",
            "Adalaide - F\n",
            "INSERT INTO raw_data.name_gender VALUES ('Adalaide', 'F')\n",
            "Analena - F\n",
            "INSERT INTO raw_data.name_gender VALUES ('Analena', 'F')\n",
            "Alaeyah - F\n",
            "INSERT INTO raw_data.name_gender VALUES ('Alaeyah', 'F')\n",
            "Albena - F\n",
            "INSERT INTO raw_data.name_gender VALUES ('Albena', 'F')\n",
            "Aimi - F\n",
            "INSERT INTO raw_data.name_gender VALUES ('Aimi', 'F')\n",
            "Adwaith - M\n",
            "INSERT INTO raw_data.name_gender VALUES ('Adwaith', 'M')\n",
            "Arkady - M\n",
            "INSERT INTO raw_data.name_gender VALUES ('Arkady', 'M')\n",
            "Astyn - Unisex\n",
            "INSERT INTO raw_data.name_gender VALUES ('Astyn', 'Unisex')\n",
            "Adelee - F\n",
            "INSERT INTO raw_data.name_gender VALUES ('Adelee', 'F')\n",
            "Agata - F\n",
            "INSERT INTO raw_data.name_gender VALUES ('Agata', 'F')\n",
            "Alegna - F\n",
            "INSERT INTO raw_data.name_gender VALUES ('Alegna', 'F')\n",
            "Altan - M\n",
            "INSERT INTO raw_data.name_gender VALUES ('Altan', 'M')\n",
            "Ahnaleigh - F\n",
            "INSERT INTO raw_data.name_gender VALUES ('Ahnaleigh', 'F')\n",
            "Algie - Unisex\n",
            "INSERT INTO raw_data.name_gender VALUES ('Algie', 'Unisex')\n",
            "Ashanti - F\n",
            "INSERT INTO raw_data.name_gender VALUES ('Ashanti', 'F')\n",
            "Aislyn - F\n",
            "INSERT INTO raw_data.name_gender VALUES ('Aislyn', 'F')\n",
            "Adaleine - F\n",
            "INSERT INTO raw_data.name_gender VALUES ('Adaleine', 'F')\n",
            "Anthnoy - M\n",
            "INSERT INTO raw_data.name_gender VALUES ('Anthnoy', 'M')\n",
            "Algernon - M\n",
            "INSERT INTO raw_data.name_gender VALUES ('Algernon', 'M')\n",
            "Aeryona - F\n",
            "INSERT INTO raw_data.name_gender VALUES ('Aeryona', 'F')\n",
            "Adrinne - F\n",
            "INSERT INTO raw_data.name_gender VALUES ('Adrinne', 'F')\n",
            "Addell - F\n",
            "INSERT INTO raw_data.name_gender VALUES ('Addell', 'F')\n",
            "Avril - F\n",
            "INSERT INTO raw_data.name_gender VALUES ('Avril', 'F')\n",
            "Ahni - F\n",
            "INSERT INTO raw_data.name_gender VALUES ('Ahni', 'F')\n",
            "Aimon - M\n",
            "INSERT INTO raw_data.name_gender VALUES ('Aimon', 'M')\n",
            "Adolpho - M\n",
            "INSERT INTO raw_data.name_gender VALUES ('Adolpho', 'M')\n",
            "Ahuva - F\n",
            "INSERT INTO raw_data.name_gender VALUES ('Ahuva', 'F')\n",
            "Aurielle - F\n",
            "INSERT INTO raw_data.name_gender VALUES ('Aurielle', 'F')\n",
            "Aveana - F\n",
            "INSERT INTO raw_data.name_gender VALUES ('Aveana', 'F')\n",
            "Aliyia - F\n",
            "INSERT INTO raw_data.name_gender VALUES ('Aliyia', 'F')\n",
            "Alesander - M\n",
            "INSERT INTO raw_data.name_gender VALUES ('Alesander', 'M')\n",
            "Adnrea - F\n",
            "INSERT INTO raw_data.name_gender VALUES ('Adnrea', 'F')\n",
            "Anjae - F\n",
            "INSERT INTO raw_data.name_gender VALUES ('Anjae', 'F')\n",
            "Alvine - F\n",
            "INSERT INTO raw_data.name_gender VALUES ('Alvine', 'F')\n",
            "Adorah - F\n",
            "INSERT INTO raw_data.name_gender VALUES ('Adorah', 'F')\n",
            "Adlemi - F\n",
            "INSERT INTO raw_data.name_gender VALUES ('Adlemi', 'F')\n",
            "Alesi - F\n",
            "INSERT INTO raw_data.name_gender VALUES ('Alesi', 'F')\n",
            "Alontae - M\n",
            "INSERT INTO raw_data.name_gender VALUES ('Alontae', 'M')\n",
            "Antonny - M\n",
            "INSERT INTO raw_data.name_gender VALUES ('Antonny', 'M')\n",
            "Adarah - F\n",
            "INSERT INTO raw_data.name_gender VALUES ('Adarah', 'F')\n",
            "Ayreanna - F\n",
            "INSERT INTO raw_data.name_gender VALUES ('Ayreanna', 'F')\n",
            "Antyon - M\n",
            "INSERT INTO raw_data.name_gender VALUES ('Antyon', 'M')\n",
            "Andia - F\n",
            "INSERT INTO raw_data.name_gender VALUES ('Andia', 'F')\n",
            "Ashla - F\n",
            "INSERT INTO raw_data.name_gender VALUES ('Ashla', 'F')\n",
            "Aspyn - F\n",
            "INSERT INTO raw_data.name_gender VALUES ('Aspyn', 'F')\n",
            "Antwanett - F\n",
            "INSERT INTO raw_data.name_gender VALUES ('Antwanett', 'F')\n",
            "Aundreia - F\n",
            "INSERT INTO raw_data.name_gender VALUES ('Aundreia', 'F')\n",
            "Audella - F\n",
            "INSERT INTO raw_data.name_gender VALUES ('Audella', 'F')\n",
            "Amari - Unisex\n",
            "INSERT INTO raw_data.name_gender VALUES ('Amari', 'Unisex')\n",
            "Arsha - Unisex\n",
            "INSERT INTO raw_data.name_gender VALUES ('Arsha', 'Unisex')\n",
            "Aricella - F\n",
            "INSERT INTO raw_data.name_gender VALUES ('Aricella', 'F')\n",
            "Adan - M\n",
            "INSERT INTO raw_data.name_gender VALUES ('Adan', 'M')\n",
            "Apasra - F\n",
            "INSERT INTO raw_data.name_gender VALUES ('Apasra', 'F')\n",
            "Alaysha - F\n",
            "INSERT INTO raw_data.name_gender VALUES ('Alaysha', 'F')\n",
            "Anderson - M\n",
            "INSERT INTO raw_data.name_gender VALUES ('Anderson', 'M')\n",
            "Aurelius - M\n",
            "INSERT INTO raw_data.name_gender VALUES ('Aurelius', 'M')\n",
            "Aerial - F\n",
            "INSERT INTO raw_data.name_gender VALUES ('Aerial', 'F')\n",
            "Averleigh - F\n",
            "INSERT INTO raw_data.name_gender VALUES ('Averleigh', 'F')\n",
            "Aslean - F\n",
            "INSERT INTO raw_data.name_gender VALUES ('Aslean', 'F')\n",
            "Arniesha - F\n",
            "INSERT INTO raw_data.name_gender VALUES ('Arniesha', 'F')\n",
            "Asyana - F\n",
            "INSERT INTO raw_data.name_gender VALUES ('Asyana', 'F')\n",
            "Annjane - F\n",
            "INSERT INTO raw_data.name_gender VALUES ('Annjane', 'F')\n",
            "Amabella - F\n",
            "INSERT INTO raw_data.name_gender VALUES ('Amabella', 'F')\n",
            "Austinjohn - M\n",
            "INSERT INTO raw_data.name_gender VALUES ('Austinjohn', 'M')\n",
            "Arloween - F\n",
            "INSERT INTO raw_data.name_gender VALUES ('Arloween', 'F')\n",
            "Alula - M\n",
            "INSERT INTO raw_data.name_gender VALUES ('Alula', 'M')\n",
            "Anemone - F\n",
            "INSERT INTO raw_data.name_gender VALUES ('Anemone', 'F')\n",
            "Amorina - F\n",
            "INSERT INTO raw_data.name_gender VALUES ('Amorina', 'F')\n",
            "Anureet - F\n",
            "INSERT INTO raw_data.name_gender VALUES ('Anureet', 'F')\n",
            "Arric - M\n",
            "INSERT INTO raw_data.name_gender VALUES ('Arric', 'M')\n",
            "Antonne - M\n",
            "INSERT INTO raw_data.name_gender VALUES ('Antonne', 'M')\n",
            "Alyre - M\n",
            "INSERT INTO raw_data.name_gender VALUES ('Alyre', 'M')\n",
            "Annaise - F\n",
            "INSERT INTO raw_data.name_gender VALUES ('Annaise', 'F')\n"
          ],
          "name": "stdout"
        }
      ]
    },
    {
      "cell_type": "code",
      "metadata": {
        "id": "b2tCeJtSWti4",
        "colab_type": "code",
        "colab": {}
      },
      "source": [
        ""
      ],
      "execution_count": null,
      "outputs": []
    }
  ]
}